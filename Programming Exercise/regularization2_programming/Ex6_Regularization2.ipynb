{
 "cells": [
  {
   "cell_type": "markdown",
   "metadata": {
    "id": "DpTrFGz29ulc"
   },
   "source": [
    "# Exercise Sheet 6 - Regularization 2\n",
    "\n",
    "In this exercise we will take a look at simple but effective methods used to combat overfitting when learning neural networks. We will use a very small subset of the FashionMNIST dataset to artificially induce overfitting, train and evaluate our model. Finally we will look at how to incorporate early stopping and how adding noise to our data makes our model more robust."
   ]
  },
  {
   "cell_type": "code",
   "execution_count": 1,
   "metadata": {
    "colab": {
     "base_uri": "https://localhost:8080/",
     "height": 35
    },
    "id": "uqI-KyxLxX01",
    "outputId": "a30f34ea-0963-4360-d832-45184fd3c526"
   },
   "outputs": [
    {
     "data": {
      "text/plain": [
       "'cpu'"
      ]
     },
     "execution_count": 1,
     "metadata": {},
     "output_type": "execute_result"
    }
   ],
   "source": [
    "from typing import Callable\n",
    "from functools import partial\n",
    "\n",
    "import torch\n",
    "from torch import nn\n",
    "from torch.optim import Optimizer, SGD\n",
    "\n",
    "from torchvision.transforms import v2\n",
    "\n",
    "#from solution import *\n",
    "from utils import *\n",
    "\n",
    "DEVICE = \"cuda\" if torch.cuda.is_available() else \"cpu\"\n",
    "DEVICE"
   ]
  },
  {
   "cell_type": "markdown",
   "metadata": {
    "id": "dmQMJsWO0lKr"
   },
   "source": [
    "# Training configuration\n",
    "\n",
    "Throughout this notebook we will use the following training configuration:"
   ]
  },
  {
   "cell_type": "code",
   "execution_count": 2,
   "metadata": {
    "id": "ycnYjzhA0qFw"
   },
   "outputs": [],
   "source": [
    "TRAIN_SET_SIZE = 200\n",
    "VAL_SET_SIZE = 1000\n",
    "EPOCHS = 500\n",
    "HIDDEN_DIMS = [64, 32]\n",
    "LR = 0.05\n",
    "BATCH_SIZE = 32"
   ]
  },
  {
   "cell_type": "markdown",
   "metadata": {
    "id": "7dCAXt2Ocg_q"
   },
   "source": [
    "# Dataset (FashionMNIST)\n",
    "\n",
    "As mentioned before, we will use the FashionMNIST dataset. This dataset behaves exactly the same as the standard MNIST dataset (grayscale images with height and width of 28 pixels, 10 classes (0-9), train set with 60k samples and test set with 10k samples) with the only difference being the depicted images. While MNIST shows handwritten digits, FashionMNIST shows 10 different types of clothing. Example images are shown after execution of the following cell."
   ]
  },
  {
   "cell_type": "code",
   "execution_count": 3,
   "metadata": {
    "colab": {
     "base_uri": "https://localhost:8080/",
     "height": 501
    },
    "id": "z3DSm0DM3OuU",
    "outputId": "604a9622-1089-4d25-d3e4-13f8588f0baf"
   },
   "outputs": [
    {
     "name": "stderr",
     "output_type": "stream",
     "text": [
      "/Users/yilongwang/anaconda3/lib/python3.10/site-packages/torchvision/transforms/v2/_deprecated.py:42: UserWarning: The transform `ToTensor()` is deprecated and will be removed in a future release. Instead, please use `v2.Compose([v2.ToImage(), v2.ToDtype(torch.float32, scale=True)])`.Output is equivalent up to float precision.\n",
      "  warnings.warn(\n"
     ]
    },
    {
     "name": "stdout",
     "output_type": "stream",
     "text": [
      "Shape of images is torch.Size([32, 1, 28, 28])\n"
     ]
    },
    {
     "data": {
      "image/png": "[encoded data removed]",
      "text/plain": [
       "<Figure size 640x480 with 4 Axes>"
      ]
     },
     "metadata": {},
     "output_type": "display_data"
    }
   ],
   "source": [
    "train_set, val_set, test_set = get_fashion_mnist_subset(TRAIN_SET_SIZE, VAL_SET_SIZE, transforms=v2.ToTensor())\n",
    "\n",
    "train_loader = DataLoader(train_set, batch_size=BATCH_SIZE, shuffle=True)\n",
    "val_loader = DataLoader(val_set, batch_size=BATCH_SIZE)\n",
    "test_loader = DataLoader(test_set, batch_size=BATCH_SIZE)\n",
    "\n",
    "visualize_first_4(train_loader)"
   ]
  },
  {
   "cell_type": "markdown",
   "metadata": {
    "id": "kOFHxlLDdB10"
   },
   "source": [
    "# Create model\n",
    "\n",
    "First, we need a function to create a model that is able to classify FashionMNIST data. The model takes in inputs of the shape (batch_size x 1 x 28 x 28) and outputs a 10-dimensional vector. It should first flatten the input images, then apply a given number of linear layers to it, and finally map to a 10-dimensional vector which will be used to predict which type of clothing it is."
   ]
  },
  {
   "cell_type": "markdown",
   "metadata": {
    "id": "lW08_XJUqngv"
   },
   "source": [
    "## Task 1a) (20 P)\n",
    "\n",
    "Complete the missing code in the following function. The function takes a list of hidden dimensions which correspond to the dimensionality of the linear layers. The input dimension of 28 x 28 and the output dimension of 10 should be hardcoded into the model. There should be as many layers as hidden dimensions, plus a final output layer. As an activation function we will use the ReLU activation."
   ]
  },
  {
   "cell_type": "code",
   "execution_count": 4,
   "metadata": {
    "id": "eNhjjwzi4MWt"
   },
   "outputs": [],
   "source": [
    "def create_model(hidden_dims: list[int]):  # TODO: explain in docstring that input is written without brackets\n",
    "    \"\"\"Create a model that works for classifying the FahsionMNIST dataset.\"\"\"\n",
    "    # --------------------------------------------------\n",
    "    # TODO: Replace by your code\n",
    "    # --------------------------------------------------\n",
    "    #model = solution_1a_create_model(hidden_dims)\n",
    "    \n",
    "    input_dim = 28*28\n",
    "    output_dim = 10\n",
    "    layers = []\n",
    "    \n",
    "    layers.append(nn.Flatten())\n",
    "    layers.append(nn.Linear(input_dim,hidden_dims[0]))\n",
    "    layers.append(nn.ReLU())\n",
    "    \n",
    "    for i in range(len(hidden_dims)-1):\n",
    "        layers.append(nn.Linear(hidden_dims[i],hidden_dims[i+1]))\n",
    "        layers.append(nn.ReLU())\n",
    "        \n",
    "    layers.append(nn.Linear(hidden_dims[-1],output_dim))\n",
    "    model = nn.Sequential(*layers)\n",
    "    \n",
    "    \n",
    "    # --------------------------------------------------\n",
    "\n",
    "    model.to(DEVICE)\n",
    "    return model\n"
   ]
  },
  {
   "cell_type": "markdown",
   "metadata": {
    "id": "U2WvINtJdIat"
   },
   "source": [
    "# Train, evaluate and save models"
   ]
  },
  {
   "cell_type": "markdown",
   "metadata": {
    "id": "3cBXGLIjqV7v"
   },
   "source": [
    "## Task 2a) (20 P)\n",
    "Write a function that trains a model for one epoch / one iteration through the train dataset. Make sure to zero the gradients before each step and to apply the optimizers functions to train the model. This is a repetition from last exercise, so check there in case you are unsure."
   ]
  },
  {
   "cell_type": "code",
   "execution_count": 5,
   "metadata": {
    "id": "yRAihwwGkmYF"
   },
   "outputs": [],
   "source": [
    "def train_one_epoch(model, dataloader, optimizer):\n",
    "    # --------------------------------------------------\n",
    "    # TODO: Replace by your code\n",
    "    # --------------------------------------------------\n",
    "    #avg_loss = solution_2a_train_one_epoch(model, dataloader, optimizer)\n",
    "    \n",
    "    loss_fn = nn.CrossEntropyLoss()\n",
    "    model.train()\n",
    "    losses = []\n",
    "    \n",
    "    for X, y in dataloader:\n",
    "        pred = model(X)\n",
    "        loss = loss_fn(pred, y)\n",
    "\n",
    "        loss.backward()\n",
    "        optimizer.step()\n",
    "        optimizer.zero_grad()\n",
    "\n",
    "        losses.append(loss.item())\n",
    "    \n",
    "    avg_loss = sum(losses) / len(losses)\n",
    "    \n",
    "    # --------------------------------------------------\n",
    "    return avg_loss"
   ]
  },
  {
   "cell_type": "markdown",
   "metadata": {
    "id": "B1_5Xlo1qWNK"
   },
   "source": [
    "## Task 2b) (20 P)\n",
    "\n",
    "Write a function that iterates through a dataloader, and outputs the average loss and accuracy. Make sure that no gradient computation is triggered, e.g. use [torch.no_grad()](https://pytorch.org/docs/stable/generated/torch.no_grad.html). Furthermore, make sure that your model in evaluation mode and to switch back afterwards. This will be important for the last task where we are adding Dropout layers to our neural network. For more information see [this](https://stackoverflow.com/questions/60018578/what-does-model-eval-do-in-pytorch) StackOverflow question.\n"
   ]
  },
  {
   "cell_type": "code",
   "execution_count": 6,
   "metadata": {
    "id": "CM3mb7LjqYv1"
   },
   "outputs": [],
   "source": [
    "def validate(model: nn.Module, dataloader: DataLoader) -> tuple[float, float]:\n",
    "    # --------------------------------------------------\n",
    "    # TODO: Replace by your code\n",
    "    # --------------------------------------------------\n",
    "    #avg_loss, avg_accuracy = solution_2b_evaluate(model, dataloader)\n",
    "    \n",
    "    loss_fn = nn.CrossEntropyLoss()\n",
    "    losses = []\n",
    "    correct_predict = 0\n",
    "    number_samples = 0\n",
    "    \n",
    "    model.eval()\n",
    "    with torch.no_grad():\n",
    "        for X,y in dataloader:\n",
    "            pred = model(X)\n",
    "            loss = loss_fn(pred, y)\n",
    "            losses.append(loss)\n",
    "            \n",
    "            _,predicted = torch.max(pred,1)\n",
    "            correct_predict += sum(predicted == y)\n",
    "            number_samples += len(y)\n",
    "            \n",
    "            \n",
    "\n",
    "    avg_loss = sum(losses) / len(dataloader)     # number of batch\n",
    "    avg_accuracy =  correct_predict / number_samples\n",
    "\n",
    "    # --------------------------------------------------\n",
    "    return avg_loss, avg_accuracy"
   ]
  },
  {
   "cell_type": "markdown",
   "metadata": {
    "id": "37OQSxE6qWfs"
   },
   "source": [
    "Here we define our complete training function. It simply iterates for `n_epochs` epochs through the training dataset, evaluates after each epoch on the validation dataset, and finally returns an array with the train and validation losses for each epoch. An important feature of this training function is that it can take a function as an argument (that's the `callback` argument) which gets the model, the current epoch, the array of train losses up until this point, the array of validation losses until this point and the last validation accuracy. The follwing tasks will partly consist of writing functions that we will pass into the training function."
   ]
  },
  {
   "cell_type": "code",
   "execution_count": 7,
   "metadata": {
    "id": "SxRR3im6qfmX"
   },
   "outputs": [],
   "source": [
    "def train(\n",
    "        model: nn.Module,\n",
    "        train_loader: DataLoader,\n",
    "        val_loader: DataLoader,\n",
    "        optimizer: Optimizer,\n",
    "        n_epochs: int,\n",
    "        callback: Callable[[nn.Module, int, list[float], list[float], float], None]\n",
    "    ) -> tuple[list[float], list[float]]:\n",
    "    train_losses = []\n",
    "    val_losses = []\n",
    "    for epoch in range(n_epochs):\n",
    "        train_loss = train_one_epoch(model, train_loader, optimizer)\n",
    "        val_loss, val_acc = validate(model, val_loader)\n",
    "\n",
    "        train_losses.append(train_loss)\n",
    "        val_losses.append(val_loss)\n",
    "\n",
    "        callback(model, epoch, train_losses, val_losses, val_acc)\n",
    "\n",
    "    return train_losses, val_losses"
   ]
  },
  {
   "cell_type": "markdown",
   "metadata": {
    "id": "B2bdoyiwyepT"
   },
   "source": [
    "## Task 2c) (10 P)\n",
    "\n",
    "In this task you should simply write a function that we can pass into the training function above that prints the current stats every `n` epochs. This function shouldn't return anything."
   ]
  },
  {
   "cell_type": "code",
   "execution_count": 8,
   "metadata": {
    "id": "pN9egdoWvR0m"
   },
   "outputs": [],
   "source": [
    "def print_loss_every_n_epochs(\n",
    "        model: nn.Module,\n",
    "        epoch: int,\n",
    "        train_losses: list[float],\n",
    "        val_losses: list[float],\n",
    "        val_acc,\n",
    "        n: int) -> None:\n",
    "    # --------------------------------------------------\n",
    "    # TODO: Replace by your code\n",
    "    # --------------------------------------------------\n",
    "    #solution_2c_print_loss_every_n_epochs(\n",
    "    #    model, epoch, train_losses, val_losses, val_acc, n)\n",
    "    \n",
    "    if epoch % n == 0:\n",
    "        print(f\"[EPOCH {epoch}] Train loss: {train_losses[-1]:.4f}, Validation loss: {val_losses[-1]:.4f}, Validation accuracy: {val_acc:.4f}\")\n",
    "    \n",
    "    \n",
    "    # --------------------------------------------------"
   ]
  },
  {
   "cell_type": "markdown",
   "metadata": {
    "id": "ybLwwK_d0ft7"
   },
   "source": [
    "Next we will train a model. We will use the above defined hyperparameters, and a simple SGD optimizer. Furthermore we will print the training stats every epoch."
   ]
  },
  {
   "cell_type": "code",
   "execution_count": 9,
   "metadata": {},
   "outputs": [
    {
     "name": "stdout",
     "output_type": "stream",
     "text": [
      "[EPOCH 0] Train loss: 2.3145, Validation loss: 2.2877, Validation accuracy: 0.1360\n",
      "[EPOCH 1] Train loss: 2.2902, Validation loss: 2.2701, Validation accuracy: 0.1800\n",
      "[EPOCH 2] Train loss: 2.2525, Validation loss: 2.2500, Validation accuracy: 0.2270\n",
      "[EPOCH 3] Train loss: 2.2336, Validation loss: 2.2221, Validation accuracy: 0.3070\n",
      "[EPOCH 4] Train loss: 2.1828, Validation loss: 2.1871, Validation accuracy: 0.3670\n",
      "[EPOCH 5] Train loss: 2.1180, Validation loss: 2.1361, Validation accuracy: 0.3870\n",
      "[EPOCH 6] Train loss: 1.9704, Validation loss: 2.1136, Validation accuracy: 0.2870\n",
      "[EPOCH 7] Train loss: 1.9365, Validation loss: 1.9819, Validation accuracy: 0.3440\n",
      "[EPOCH 8] Train loss: 1.8460, Validation loss: 1.9070, Validation accuracy: 0.3620\n",
      "[EPOCH 9] Train loss: 1.7293, Validation loss: 1.8045, Validation accuracy: 0.3770\n"
     ]
    },
    {
     "data": {
      "image/png": "[encoded data removed]",
      "text/plain": [
       "<Figure size 640x480 with 1 Axes>"
      ]
     },
     "metadata": {},
     "output_type": "display_data"
    }
   ],
   "source": [
    "model = create_model(HIDDEN_DIMS)\n",
    "optimizer = SGD(model.parameters(), lr=LR)\n",
    "\n",
    "train_losses , val_losses = train(model,\n",
    "                                   train_loader,\n",
    "                                   val_loader,\n",
    "                                   optimizer,\n",
    "                                   n_epochs=10,\n",
    "                                   callback=partial(print_loss_every_n_epochs, n=1))\n",
    "\n",
    "plot_train_and_val_loss(train_losses, val_losses, title=f\"min. validation loss: {min(val_losses):.4f}\")"
   ]
  },
  {
   "cell_type": "markdown",
   "metadata": {
    "id": "FSa-eCUldIpD"
   },
   "source": [
    "# Early stopping\n",
    "\n",
    "Early stopping is the most simple thing to prevent your final model to overfit: you simply track train and test errors and use a model checkpoint before your model started to overfit."
   ]
  },
  {
   "cell_type": "markdown",
   "metadata": {
    "id": "S-tjt_2mOz_k"
   },
   "source": [
    "## Task 3a) (10 P)\n",
    "\n",
    "Implementing early stopping is pretty straight forward. Simply save your model each time you've reached a new best validation loss, and otherwise don't. To reduce clutter in your filesystem you can simply override the saved model each time. Saving and loading PyTorch models is described in [this guide](https://pytorch.org/tutorials/beginner/saving_loading_models.html). The function to load models is given."
   ]
  },
  {
   "cell_type": "markdown",
   "metadata": {},
   "source": []
  },
  {
   "cell_type": "code",
   "execution_count": 10,
   "metadata": {
    "id": "mNX0MSQBThWR"
   },
   "outputs": [],
   "source": [
    "def save_model_if_improved(model, epoch, train_losses, val_losses, val_acc, filename):\n",
    "    # --------------------------------------------------\n",
    "    # TODO: Replace by your code\n",
    "    # --------------------------------------------------\n",
    "    #solution_3b_save_model_if_improved(model, epoch, train_losses, val_losses, val_acc, filename)\n",
    "    if epoch == 0 or val_losses[-1] < min(val_losses[:-1]):\n",
    "        torch.save(model.state_dict(), filename)\n",
    "        print(f\"[EPOCH {epoch}] Model saved with validation loss: {val_losses[-1]:.4f}\")\n",
    "\n",
    "    # --------------------------------------------------\n",
    "\n",
    "def load_model(model, model_file_path: str) -> nn.Module:\n",
    "    model.load_state_dict(torch.load(model_file_path, weights_only=True))\n",
    "    return model"
   ]
  },
  {
   "cell_type": "markdown",
   "metadata": {
    "id": "XKGjfb4e1iBS"
   },
   "source": [
    "This time we will train our model for more epochs, to show how it overfits. Your implemented function should stop saving the model once the model starts to overfit."
   ]
  },
  {
   "cell_type": "code",
   "execution_count": null,
   "metadata": {},
   "outputs": [],
   "source": [
    "model = create_model(HIDDEN_DIMS)\n",
    "optimizer = SGD(model.parameters(), lr=LR)\n",
    "train_losses, val_losses = train(model,\n",
    "                                train_loader,\n",
    "                                val_loader,\n",
    "                                optimizer,\n",
    "                                n_epochs=EPOCHS,\n",
    "                                callback=partial(save_model_if_improved, filename=\"early_stopping.pth\"))\n",
    "\n",
    "plot_train_and_val_loss(train_losses, val_losses, title=f\"min. validation loss: {min(val_losses):.4f}\")"
   ]
  },
  {
   "cell_type": "markdown",
   "metadata": {
    "id": "JY-rcJaI1nzK"
   },
   "source": [
    "We now evaluate our model on the test set, to get a better estimate of the generalization error. As you can see we've named the model"
   ]
  },
  {
   "cell_type": "code",
   "execution_count": null,
   "metadata": {
    "colab": {
     "base_uri": "https://localhost:8080/"
    },
    "id": "p2LmIOwmWiIg",
    "outputId": "4448adbf-4149-4096-e34f-14340b8edd9f"
   },
   "outputs": [],
   "source": [
    "pretrained_model = create_model(HIDDEN_DIMS)\n",
    "load_model(pretrained_model, model_file_path=\"early_stopping.pth\")\n",
    "test_loss, test_accuracy = validate(pretrained_model, test_loader)\n",
    "\n",
    "print(f\"Early stopping model achieved test loss of {test_loss:.4f} and accuarcy {test_accuracy:.4f}\")\n",
    "# Early stopping model achieved test loss of 0.7912 and accuarcy 0.7292\n"
   ]
  },
  {
   "cell_type": "markdown",
   "metadata": {
    "id": "9p8jIp3iug5c"
   },
   "source": [
    "# Dropout\n",
    "\n",
    "Dropout is a technique where neurons are randoml set to zero, which introduces noise into the network, and helps to generalize better. Details are described in [this blogpost](https://towardsdatascience.com/dropout-in-neural-networks-47a162d621d9)."
   ]
  },
  {
   "cell_type": "markdown",
   "metadata": {
    "id": "0Y5M7oDI2422"
   },
   "source": [
    "## Task 4a) (20 P)\n",
    "\n",
    "Implement a function similar to the one above where we build a standard feed forward network. But now, after each activation layer, add a [nn.Dropout()](https://pytorch.org/docs/stable/generated/torch.nn.Dropout.html) layer with the dropout probability specified in the parameter `p`."
   ]
  },
  {
   "cell_type": "code",
   "execution_count": null,
   "metadata": {
    "id": "ysz_yl5FuhQo"
   },
   "outputs": [],
   "source": [
    "def create_model_with_dropout(hidden_dims: list[int], p: float):\n",
    "    # --------------------------------------------------\n",
    "    # TODO: Replace by your code\n",
    "    # --------------------------------------------------\n",
    "    # model = solution_4a_create_model_with_dropout(hidden_dims, p)\n",
    "    \n",
    "    input_dim = 28*28\n",
    "    output_dim = 10\n",
    "    layers = []\n",
    "    \n",
    "    layers.append(nn.Flatten())\n",
    "    layers.append(nn.Linear(input_dim,hidden_dims[0]))\n",
    "    layers.append(nn.ReLU())\n",
    "    layers.append(nn.Dropout(p))\n",
    "    \n",
    "    for i in range(len(hidden_dims)-1):\n",
    "        layers.append(nn.Linear(hidden_dims[i],hidden_dims[i+1]))\n",
    "        layers.append(nn.ReLU())\n",
    "        layers.append(nn.Dropout(p))\n",
    "        \n",
    "    layers.append(nn.Linear(hidden_dims[-1],output_dim))\n",
    "    model = nn.Sequential(*layers)\n",
    "    \n",
    "    # --------------------------------------------------\n",
    "\n",
    "    model.to(DEVICE)\n",
    "    return model"
   ]
  },
  {
   "cell_type": "markdown",
   "metadata": {
    "id": "dG8eL4m13WdU"
   },
   "source": [
    "Next we will train a neural network with the exact same parameters as above, only that we now have added dropout layers."
   ]
  },
  {
   "cell_type": "code",
   "execution_count": null,
   "metadata": {},
   "outputs": [],
   "source": [
    "DROPOUT = 0.8\n",
    "\n",
    "model = create_model_with_dropout(HIDDEN_DIMS, p=DROPOUT)\n",
    "optimizer = SGD(model.parameters(), lr=LR)\n",
    "\n",
    "train_losses, val_losses = train(model,\n",
    "                                train_loader,\n",
    "                                val_loader,\n",
    "                                optimizer,\n",
    "                                n_epochs=EPOCHS,\n",
    "                                callback=partial(save_model_if_improved, filename=\"dropout.pth\"))\n",
    "\n",
    "plot_train_and_val_loss(train_losses, val_losses, title=f\"min. validation loss: {min(val_losses):.4f}\")"
   ]
  },
  {
   "cell_type": "code",
   "execution_count": null,
   "metadata": {
    "colab": {
     "base_uri": "https://localhost:8080/"
    },
    "id": "y7fIHdVEw6i5",
    "outputId": "3a02013d-f2ea-4a1f-aa4b-39c83e76765d",
    "tags": []
   },
   "outputs": [],
   "source": [
    "pretrained_model = create_model_with_dropout(HIDDEN_DIMS, DROPOUT)\n",
    "load_model(pretrained_model, \"dropout.pth\")\n",
    "test_loss, test_accuracy = validate(pretrained_model, test_loader)\n",
    "\n",
    "print(f\"Dropout model achieved test loss of {test_loss:.4f} and accuracy of {test_accuracy:.4f}\")\n",
    "#Dropout model achieved test loss of 1.0192 and accuracy of 0.6272\n"
   ]
  }
 ],
 "metadata": {
  "accelerator": "GPU",
  "colab": {
   "collapsed_sections": [
    "kkIkvjAQdI3K"
   ],
   "gpuType": "T4",
   "provenance": [],
   "toc_visible": true
  },
  "kernelspec": {
   "display_name": "Python 3 (ipykernel)",
   "language": "python",
   "name": "python3"
  },
  "language_info": {
   "codemirror_mode": {
    "name": "ipython",
    "version": 3
   },
   "file_extension": ".py",
   "mimetype": "text/x-python",
   "name": "python",
   "nbconvert_exporter": "python",
   "pygments_lexer": "ipython3",
   "version": "3.10.15"
  }
 },
 "nbformat": 4,
 "nbformat_minor": 4
}
